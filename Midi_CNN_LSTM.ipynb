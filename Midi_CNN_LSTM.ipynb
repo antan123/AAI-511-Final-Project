{
  "nbformat": 4,
  "nbformat_minor": 0,
  "metadata": {
    "colab": {
      "provenance": [],
      "gpuType": "T4"
    },
    "kernelspec": {
      "name": "python3",
      "display_name": "Python 3"
    },
    "language_info": {
      "name": "python"
    },
    "accelerator": "GPU"
  },
  "cells": [
    {
      "cell_type": "code",
      "execution_count": 1,
      "metadata": {
        "colab": {
          "base_uri": "https://localhost:8080/"
        },
        "id": "t2PGCIbjAp3_",
        "outputId": "2b6ed559-07c1-4a71-8dc8-cfc115402a36"
      },
      "outputs": [
        {
          "output_type": "stream",
          "name": "stdout",
          "text": [
            "Mounted at /content/gdrive\n"
          ]
        }
      ],
      "source": [
        "from google.colab import drive\n",
        "drive.mount('/content/gdrive')"
      ]
    },
    {
      "cell_type": "code",
      "source": [
        "\n",
        "!pip install torch torchvision\n",
        "!pip install opencv-python-headless\n",
        "!pip install scikit-learn\n",
        "!pip install matplotlib seaborn\n",
        "!pip install tqdm\n",
        "!pip install Pillow\n",
        "!pip install pretty_midi\n",
        "!pip install librosa"
      ],
      "metadata": {
        "colab": {
          "base_uri": "https://localhost:8080/"
        },
        "id": "dgRIUi84AsTY",
        "outputId": "e0542542-6b84-4b97-8a8d-2c51b78f501c"
      },
      "execution_count": 2,
      "outputs": [
        {
          "output_type": "stream",
          "name": "stdout",
          "text": [
            "Requirement already satisfied: torch in /usr/local/lib/python3.11/dist-packages (2.6.0+cu124)\n",
            "Requirement already satisfied: torchvision in /usr/local/lib/python3.11/dist-packages (0.21.0+cu124)\n",
            "Requirement already satisfied: filelock in /usr/local/lib/python3.11/dist-packages (from torch) (3.18.0)\n",
            "Requirement already satisfied: typing-extensions>=4.10.0 in /usr/local/lib/python3.11/dist-packages (from torch) (4.14.1)\n",
            "Requirement already satisfied: networkx in /usr/local/lib/python3.11/dist-packages (from torch) (3.5)\n",
            "Requirement already satisfied: jinja2 in /usr/local/lib/python3.11/dist-packages (from torch) (3.1.6)\n",
            "Requirement already satisfied: fsspec in /usr/local/lib/python3.11/dist-packages (from torch) (2025.3.0)\n",
            "Collecting nvidia-cuda-nvrtc-cu12==12.4.127 (from torch)\n",
            "  Downloading nvidia_cuda_nvrtc_cu12-12.4.127-py3-none-manylinux2014_x86_64.whl.metadata (1.5 kB)\n",
            "Collecting nvidia-cuda-runtime-cu12==12.4.127 (from torch)\n",
            "  Downloading nvidia_cuda_runtime_cu12-12.4.127-py3-none-manylinux2014_x86_64.whl.metadata (1.5 kB)\n",
            "Collecting nvidia-cuda-cupti-cu12==12.4.127 (from torch)\n",
            "  Downloading nvidia_cuda_cupti_cu12-12.4.127-py3-none-manylinux2014_x86_64.whl.metadata (1.6 kB)\n",
            "Collecting nvidia-cudnn-cu12==9.1.0.70 (from torch)\n",
            "  Downloading nvidia_cudnn_cu12-9.1.0.70-py3-none-manylinux2014_x86_64.whl.metadata (1.6 kB)\n",
            "Collecting nvidia-cublas-cu12==12.4.5.8 (from torch)\n",
            "  Downloading nvidia_cublas_cu12-12.4.5.8-py3-none-manylinux2014_x86_64.whl.metadata (1.5 kB)\n",
            "Collecting nvidia-cufft-cu12==11.2.1.3 (from torch)\n",
            "  Downloading nvidia_cufft_cu12-11.2.1.3-py3-none-manylinux2014_x86_64.whl.metadata (1.5 kB)\n",
            "Collecting nvidia-curand-cu12==10.3.5.147 (from torch)\n",
            "  Downloading nvidia_curand_cu12-10.3.5.147-py3-none-manylinux2014_x86_64.whl.metadata (1.5 kB)\n",
            "Collecting nvidia-cusolver-cu12==11.6.1.9 (from torch)\n",
            "  Downloading nvidia_cusolver_cu12-11.6.1.9-py3-none-manylinux2014_x86_64.whl.metadata (1.6 kB)\n",
            "Collecting nvidia-cusparse-cu12==12.3.1.170 (from torch)\n",
            "  Downloading nvidia_cusparse_cu12-12.3.1.170-py3-none-manylinux2014_x86_64.whl.metadata (1.6 kB)\n",
            "Requirement already satisfied: nvidia-cusparselt-cu12==0.6.2 in /usr/local/lib/python3.11/dist-packages (from torch) (0.6.2)\n",
            "Requirement already satisfied: nvidia-nccl-cu12==2.21.5 in /usr/local/lib/python3.11/dist-packages (from torch) (2.21.5)\n",
            "Requirement already satisfied: nvidia-nvtx-cu12==12.4.127 in /usr/local/lib/python3.11/dist-packages (from torch) (12.4.127)\n",
            "Collecting nvidia-nvjitlink-cu12==12.4.127 (from torch)\n",
            "  Downloading nvidia_nvjitlink_cu12-12.4.127-py3-none-manylinux2014_x86_64.whl.metadata (1.5 kB)\n",
            "Requirement already satisfied: triton==3.2.0 in /usr/local/lib/python3.11/dist-packages (from torch) (3.2.0)\n",
            "Requirement already satisfied: sympy==1.13.1 in /usr/local/lib/python3.11/dist-packages (from torch) (1.13.1)\n",
            "Requirement already satisfied: mpmath<1.4,>=1.1.0 in /usr/local/lib/python3.11/dist-packages (from sympy==1.13.1->torch) (1.3.0)\n",
            "Requirement already satisfied: numpy in /usr/local/lib/python3.11/dist-packages (from torchvision) (2.0.2)\n",
            "Requirement already satisfied: pillow!=8.3.*,>=5.3.0 in /usr/local/lib/python3.11/dist-packages (from torchvision) (11.3.0)\n",
            "Requirement already satisfied: MarkupSafe>=2.0 in /usr/local/lib/python3.11/dist-packages (from jinja2->torch) (3.0.2)\n",
            "Downloading nvidia_cublas_cu12-12.4.5.8-py3-none-manylinux2014_x86_64.whl (363.4 MB)\n",
            "\u001b[2K   \u001b[90m━━━━━━━━━━━━━━━━━━━━━━━━━━━━━━━━━━━━━━━━\u001b[0m \u001b[32m363.4/363.4 MB\u001b[0m \u001b[31m3.9 MB/s\u001b[0m eta \u001b[36m0:00:00\u001b[0m\n",
            "\u001b[?25hDownloading nvidia_cuda_cupti_cu12-12.4.127-py3-none-manylinux2014_x86_64.whl (13.8 MB)\n",
            "\u001b[2K   \u001b[90m━━━━━━━━━━━━━━━━━━━━━━━━━━━━━━━━━━━━━━━━\u001b[0m \u001b[32m13.8/13.8 MB\u001b[0m \u001b[31m69.3 MB/s\u001b[0m eta \u001b[36m0:00:00\u001b[0m\n",
            "\u001b[?25hDownloading nvidia_cuda_nvrtc_cu12-12.4.127-py3-none-manylinux2014_x86_64.whl (24.6 MB)\n",
            "\u001b[2K   \u001b[90m━━━━━━━━━━━━━━━━━━━━━━━━━━━━━━━━━━━━━━━━\u001b[0m \u001b[32m24.6/24.6 MB\u001b[0m \u001b[31m33.6 MB/s\u001b[0m eta \u001b[36m0:00:00\u001b[0m\n",
            "\u001b[?25hDownloading nvidia_cuda_runtime_cu12-12.4.127-py3-none-manylinux2014_x86_64.whl (883 kB)\n",
            "\u001b[2K   \u001b[90m━━━━━━━━━━━━━━━━━━━━━━━━━━━━━━━━━━━━━━━━\u001b[0m \u001b[32m883.7/883.7 kB\u001b[0m \u001b[31m49.3 MB/s\u001b[0m eta \u001b[36m0:00:00\u001b[0m\n",
            "\u001b[?25hDownloading nvidia_cudnn_cu12-9.1.0.70-py3-none-manylinux2014_x86_64.whl (664.8 MB)\n",
            "\u001b[2K   \u001b[90m━━━━━━━━━━━━━━━━━━━━━━━━━━━━━━━━━━━━━━━━\u001b[0m \u001b[32m664.8/664.8 MB\u001b[0m \u001b[31m2.2 MB/s\u001b[0m eta \u001b[36m0:00:00\u001b[0m\n",
            "\u001b[?25hDownloading nvidia_cufft_cu12-11.2.1.3-py3-none-manylinux2014_x86_64.whl (211.5 MB)\n",
            "\u001b[2K   \u001b[90m━━━━━━━━━━━━━━━━━━━━━━━━━━━━━━━━━━━━━━━━\u001b[0m \u001b[32m211.5/211.5 MB\u001b[0m \u001b[31m5.4 MB/s\u001b[0m eta \u001b[36m0:00:00\u001b[0m\n",
            "\u001b[?25hDownloading nvidia_curand_cu12-10.3.5.147-py3-none-manylinux2014_x86_64.whl (56.3 MB)\n",
            "\u001b[2K   \u001b[90m━━━━━━━━━━━━━━━━━━━━━━━━━━━━━━━━━━━━━━━━\u001b[0m \u001b[32m56.3/56.3 MB\u001b[0m \u001b[31m18.2 MB/s\u001b[0m eta \u001b[36m0:00:00\u001b[0m\n",
            "\u001b[?25hDownloading nvidia_cusolver_cu12-11.6.1.9-py3-none-manylinux2014_x86_64.whl (127.9 MB)\n",
            "\u001b[2K   \u001b[90m━━━━━━━━━━━━━━━━━━━━━━━━━━━━━━━━━━━━━━━━\u001b[0m \u001b[32m127.9/127.9 MB\u001b[0m \u001b[31m7.5 MB/s\u001b[0m eta \u001b[36m0:00:00\u001b[0m\n",
            "\u001b[?25hDownloading nvidia_cusparse_cu12-12.3.1.170-py3-none-manylinux2014_x86_64.whl (207.5 MB)\n",
            "\u001b[2K   \u001b[90m━━━━━━━━━━━━━━━━━━━━━━━━━━━━━━━━━━━━━━━━\u001b[0m \u001b[32m207.5/207.5 MB\u001b[0m \u001b[31m4.7 MB/s\u001b[0m eta \u001b[36m0:00:00\u001b[0m\n",
            "\u001b[?25hDownloading nvidia_nvjitlink_cu12-12.4.127-py3-none-manylinux2014_x86_64.whl (21.1 MB)\n",
            "\u001b[2K   \u001b[90m━━━━━━━━━━━━━━━━━━━━━━━━━━━━━━━━━━━━━━━━\u001b[0m \u001b[32m21.1/21.1 MB\u001b[0m \u001b[31m74.4 MB/s\u001b[0m eta \u001b[36m0:00:00\u001b[0m\n",
            "\u001b[?25hInstalling collected packages: nvidia-nvjitlink-cu12, nvidia-curand-cu12, nvidia-cufft-cu12, nvidia-cuda-runtime-cu12, nvidia-cuda-nvrtc-cu12, nvidia-cuda-cupti-cu12, nvidia-cublas-cu12, nvidia-cusparse-cu12, nvidia-cudnn-cu12, nvidia-cusolver-cu12\n",
            "  Attempting uninstall: nvidia-nvjitlink-cu12\n",
            "    Found existing installation: nvidia-nvjitlink-cu12 12.5.82\n",
            "    Uninstalling nvidia-nvjitlink-cu12-12.5.82:\n",
            "      Successfully uninstalled nvidia-nvjitlink-cu12-12.5.82\n",
            "  Attempting uninstall: nvidia-curand-cu12\n",
            "    Found existing installation: nvidia-curand-cu12 10.3.6.82\n",
            "    Uninstalling nvidia-curand-cu12-10.3.6.82:\n",
            "      Successfully uninstalled nvidia-curand-cu12-10.3.6.82\n",
            "  Attempting uninstall: nvidia-cufft-cu12\n",
            "    Found existing installation: nvidia-cufft-cu12 11.2.3.61\n",
            "    Uninstalling nvidia-cufft-cu12-11.2.3.61:\n",
            "      Successfully uninstalled nvidia-cufft-cu12-11.2.3.61\n",
            "  Attempting uninstall: nvidia-cuda-runtime-cu12\n",
            "    Found existing installation: nvidia-cuda-runtime-cu12 12.5.82\n",
            "    Uninstalling nvidia-cuda-runtime-cu12-12.5.82:\n",
            "      Successfully uninstalled nvidia-cuda-runtime-cu12-12.5.82\n",
            "  Attempting uninstall: nvidia-cuda-nvrtc-cu12\n",
            "    Found existing installation: nvidia-cuda-nvrtc-cu12 12.5.82\n",
            "    Uninstalling nvidia-cuda-nvrtc-cu12-12.5.82:\n",
            "      Successfully uninstalled nvidia-cuda-nvrtc-cu12-12.5.82\n",
            "  Attempting uninstall: nvidia-cuda-cupti-cu12\n",
            "    Found existing installation: nvidia-cuda-cupti-cu12 12.5.82\n",
            "    Uninstalling nvidia-cuda-cupti-cu12-12.5.82:\n",
            "      Successfully uninstalled nvidia-cuda-cupti-cu12-12.5.82\n",
            "  Attempting uninstall: nvidia-cublas-cu12\n",
            "    Found existing installation: nvidia-cublas-cu12 12.5.3.2\n",
            "    Uninstalling nvidia-cublas-cu12-12.5.3.2:\n",
            "      Successfully uninstalled nvidia-cublas-cu12-12.5.3.2\n",
            "  Attempting uninstall: nvidia-cusparse-cu12\n",
            "    Found existing installation: nvidia-cusparse-cu12 12.5.1.3\n",
            "    Uninstalling nvidia-cusparse-cu12-12.5.1.3:\n",
            "      Successfully uninstalled nvidia-cusparse-cu12-12.5.1.3\n",
            "  Attempting uninstall: nvidia-cudnn-cu12\n",
            "    Found existing installation: nvidia-cudnn-cu12 9.3.0.75\n",
            "    Uninstalling nvidia-cudnn-cu12-9.3.0.75:\n",
            "      Successfully uninstalled nvidia-cudnn-cu12-9.3.0.75\n",
            "  Attempting uninstall: nvidia-cusolver-cu12\n",
            "    Found existing installation: nvidia-cusolver-cu12 11.6.3.83\n",
            "    Uninstalling nvidia-cusolver-cu12-11.6.3.83:\n",
            "      Successfully uninstalled nvidia-cusolver-cu12-11.6.3.83\n",
            "Successfully installed nvidia-cublas-cu12-12.4.5.8 nvidia-cuda-cupti-cu12-12.4.127 nvidia-cuda-nvrtc-cu12-12.4.127 nvidia-cuda-runtime-cu12-12.4.127 nvidia-cudnn-cu12-9.1.0.70 nvidia-cufft-cu12-11.2.1.3 nvidia-curand-cu12-10.3.5.147 nvidia-cusolver-cu12-11.6.1.9 nvidia-cusparse-cu12-12.3.1.170 nvidia-nvjitlink-cu12-12.4.127\n",
            "Requirement already satisfied: opencv-python-headless in /usr/local/lib/python3.11/dist-packages (4.12.0.88)\n",
            "Requirement already satisfied: numpy<2.3.0,>=2 in /usr/local/lib/python3.11/dist-packages (from opencv-python-headless) (2.0.2)\n",
            "Requirement already satisfied: scikit-learn in /usr/local/lib/python3.11/dist-packages (1.6.1)\n",
            "Requirement already satisfied: numpy>=1.19.5 in /usr/local/lib/python3.11/dist-packages (from scikit-learn) (2.0.2)\n",
            "Requirement already satisfied: scipy>=1.6.0 in /usr/local/lib/python3.11/dist-packages (from scikit-learn) (1.16.0)\n",
            "Requirement already satisfied: joblib>=1.2.0 in /usr/local/lib/python3.11/dist-packages (from scikit-learn) (1.5.1)\n",
            "Requirement already satisfied: threadpoolctl>=3.1.0 in /usr/local/lib/python3.11/dist-packages (from scikit-learn) (3.6.0)\n",
            "Requirement already satisfied: matplotlib in /usr/local/lib/python3.11/dist-packages (3.10.0)\n",
            "Requirement already satisfied: seaborn in /usr/local/lib/python3.11/dist-packages (0.13.2)\n",
            "Requirement already satisfied: contourpy>=1.0.1 in /usr/local/lib/python3.11/dist-packages (from matplotlib) (1.3.2)\n",
            "Requirement already satisfied: cycler>=0.10 in /usr/local/lib/python3.11/dist-packages (from matplotlib) (0.12.1)\n",
            "Requirement already satisfied: fonttools>=4.22.0 in /usr/local/lib/python3.11/dist-packages (from matplotlib) (4.59.0)\n",
            "Requirement already satisfied: kiwisolver>=1.3.1 in /usr/local/lib/python3.11/dist-packages (from matplotlib) (1.4.8)\n",
            "Requirement already satisfied: numpy>=1.23 in /usr/local/lib/python3.11/dist-packages (from matplotlib) (2.0.2)\n",
            "Requirement already satisfied: packaging>=20.0 in /usr/local/lib/python3.11/dist-packages (from matplotlib) (25.0)\n",
            "Requirement already satisfied: pillow>=8 in /usr/local/lib/python3.11/dist-packages (from matplotlib) (11.3.0)\n",
            "Requirement already satisfied: pyparsing>=2.3.1 in /usr/local/lib/python3.11/dist-packages (from matplotlib) (3.2.3)\n",
            "Requirement already satisfied: python-dateutil>=2.7 in /usr/local/lib/python3.11/dist-packages (from matplotlib) (2.9.0.post0)\n",
            "Requirement already satisfied: pandas>=1.2 in /usr/local/lib/python3.11/dist-packages (from seaborn) (2.2.2)\n",
            "Requirement already satisfied: pytz>=2020.1 in /usr/local/lib/python3.11/dist-packages (from pandas>=1.2->seaborn) (2025.2)\n",
            "Requirement already satisfied: tzdata>=2022.7 in /usr/local/lib/python3.11/dist-packages (from pandas>=1.2->seaborn) (2025.2)\n",
            "Requirement already satisfied: six>=1.5 in /usr/local/lib/python3.11/dist-packages (from python-dateutil>=2.7->matplotlib) (1.17.0)\n",
            "Requirement already satisfied: tqdm in /usr/local/lib/python3.11/dist-packages (4.67.1)\n",
            "Requirement already satisfied: Pillow in /usr/local/lib/python3.11/dist-packages (11.3.0)\n",
            "Collecting pretty_midi\n",
            "  Downloading pretty_midi-0.2.10.tar.gz (5.6 MB)\n",
            "\u001b[2K     \u001b[90m━━━━━━━━━━━━━━━━━━━━━━━━━━━━━━━━━━━━━━━━\u001b[0m \u001b[32m5.6/5.6 MB\u001b[0m \u001b[31m69.5 MB/s\u001b[0m eta \u001b[36m0:00:00\u001b[0m\n",
            "\u001b[?25h  Preparing metadata (setup.py) ... \u001b[?25l\u001b[?25hdone\n",
            "Requirement already satisfied: numpy>=1.7.0 in /usr/local/lib/python3.11/dist-packages (from pretty_midi) (2.0.2)\n",
            "Collecting mido>=1.1.16 (from pretty_midi)\n",
            "  Downloading mido-1.3.3-py3-none-any.whl.metadata (6.4 kB)\n",
            "Requirement already satisfied: six in /usr/local/lib/python3.11/dist-packages (from pretty_midi) (1.17.0)\n",
            "Requirement already satisfied: packaging in /usr/local/lib/python3.11/dist-packages (from mido>=1.1.16->pretty_midi) (25.0)\n",
            "Downloading mido-1.3.3-py3-none-any.whl (54 kB)\n",
            "\u001b[2K   \u001b[90m━━━━━━━━━━━━━━━━━━━━━━━━━━━━━━━━━━━━━━━━\u001b[0m \u001b[32m54.6/54.6 kB\u001b[0m \u001b[31m4.3 MB/s\u001b[0m eta \u001b[36m0:00:00\u001b[0m\n",
            "\u001b[?25hBuilding wheels for collected packages: pretty_midi\n",
            "  Building wheel for pretty_midi (setup.py) ... \u001b[?25l\u001b[?25hdone\n",
            "  Created wheel for pretty_midi: filename=pretty_midi-0.2.10-py3-none-any.whl size=5592286 sha256=077ba681f549a92c162b8a442911cccba98a4c0eadafcb92096e5113b26595f5\n",
            "  Stored in directory: /root/.cache/pip/wheels/e6/95/ac/15ceaeb2823b04d8e638fd1495357adb8d26c00ccac9d7782e\n",
            "Successfully built pretty_midi\n",
            "Installing collected packages: mido, pretty_midi\n",
            "Successfully installed mido-1.3.3 pretty_midi-0.2.10\n",
            "Requirement already satisfied: librosa in /usr/local/lib/python3.11/dist-packages (0.11.0)\n",
            "Requirement already satisfied: audioread>=2.1.9 in /usr/local/lib/python3.11/dist-packages (from librosa) (3.0.1)\n",
            "Requirement already satisfied: numba>=0.51.0 in /usr/local/lib/python3.11/dist-packages (from librosa) (0.60.0)\n",
            "Requirement already satisfied: numpy>=1.22.3 in /usr/local/lib/python3.11/dist-packages (from librosa) (2.0.2)\n",
            "Requirement already satisfied: scipy>=1.6.0 in /usr/local/lib/python3.11/dist-packages (from librosa) (1.16.0)\n",
            "Requirement already satisfied: scikit-learn>=1.1.0 in /usr/local/lib/python3.11/dist-packages (from librosa) (1.6.1)\n",
            "Requirement already satisfied: joblib>=1.0 in /usr/local/lib/python3.11/dist-packages (from librosa) (1.5.1)\n",
            "Requirement already satisfied: decorator>=4.3.0 in /usr/local/lib/python3.11/dist-packages (from librosa) (4.4.2)\n",
            "Requirement already satisfied: soundfile>=0.12.1 in /usr/local/lib/python3.11/dist-packages (from librosa) (0.13.1)\n",
            "Requirement already satisfied: pooch>=1.1 in /usr/local/lib/python3.11/dist-packages (from librosa) (1.8.2)\n",
            "Requirement already satisfied: soxr>=0.3.2 in /usr/local/lib/python3.11/dist-packages (from librosa) (0.5.0.post1)\n",
            "Requirement already satisfied: typing_extensions>=4.1.1 in /usr/local/lib/python3.11/dist-packages (from librosa) (4.14.1)\n",
            "Requirement already satisfied: lazy_loader>=0.1 in /usr/local/lib/python3.11/dist-packages (from librosa) (0.4)\n",
            "Requirement already satisfied: msgpack>=1.0 in /usr/local/lib/python3.11/dist-packages (from librosa) (1.1.1)\n",
            "Requirement already satisfied: packaging in /usr/local/lib/python3.11/dist-packages (from lazy_loader>=0.1->librosa) (25.0)\n",
            "Requirement already satisfied: llvmlite<0.44,>=0.43.0dev0 in /usr/local/lib/python3.11/dist-packages (from numba>=0.51.0->librosa) (0.43.0)\n",
            "Requirement already satisfied: platformdirs>=2.5.0 in /usr/local/lib/python3.11/dist-packages (from pooch>=1.1->librosa) (4.3.8)\n",
            "Requirement already satisfied: requests>=2.19.0 in /usr/local/lib/python3.11/dist-packages (from pooch>=1.1->librosa) (2.32.3)\n",
            "Requirement already satisfied: threadpoolctl>=3.1.0 in /usr/local/lib/python3.11/dist-packages (from scikit-learn>=1.1.0->librosa) (3.6.0)\n",
            "Requirement already satisfied: cffi>=1.0 in /usr/local/lib/python3.11/dist-packages (from soundfile>=0.12.1->librosa) (1.17.1)\n",
            "Requirement already satisfied: pycparser in /usr/local/lib/python3.11/dist-packages (from cffi>=1.0->soundfile>=0.12.1->librosa) (2.22)\n",
            "Requirement already satisfied: charset-normalizer<4,>=2 in /usr/local/lib/python3.11/dist-packages (from requests>=2.19.0->pooch>=1.1->librosa) (3.4.2)\n",
            "Requirement already satisfied: idna<4,>=2.5 in /usr/local/lib/python3.11/dist-packages (from requests>=2.19.0->pooch>=1.1->librosa) (3.10)\n",
            "Requirement already satisfied: urllib3<3,>=1.21.1 in /usr/local/lib/python3.11/dist-packages (from requests>=2.19.0->pooch>=1.1->librosa) (2.5.0)\n",
            "Requirement already satisfied: certifi>=2017.4.17 in /usr/local/lib/python3.11/dist-packages (from requests>=2.19.0->pooch>=1.1->librosa) (2025.7.14)\n"
          ]
        }
      ]
    },
    {
      "cell_type": "code",
      "source": [
        "import os\n",
        "import numpy as np\n",
        "import pandas as pd\n",
        "import torch\n",
        "import torch.nn as nn\n",
        "import torch.optim as optim\n",
        "from torch.utils.data import Dataset, DataLoader, random_split\n",
        "import torch.nn.functional as F\n",
        "from sklearn.metrics import accuracy_score, precision_score, recall_score, classification_report, confusion_matrix\n",
        "import matplotlib.pyplot as plt\n",
        "import seaborn as sns\n",
        "from collections import Counter\n",
        "import pretty_midi\n",
        "import librosa\n",
        "from tqdm import tqdm\n",
        "import warnings\n",
        "warnings.filterwarnings('ignore')"
      ],
      "metadata": {
        "id": "1ewVsKdMCAic"
      },
      "execution_count": 3,
      "outputs": []
    },
    {
      "cell_type": "code",
      "source": [
        "torch.manual_seed(0)\n",
        "np.random.seed(0)\n",
        "\n",
        "device = torch.device('cuda' if torch.cuda.is_available() else 'cpu')"
      ],
      "metadata": {
        "id": "yHW2KVnOBLgi"
      },
      "execution_count": 4,
      "outputs": []
    },
    {
      "cell_type": "code",
      "source": [
        "# Parameters for feature extraction - Derived with the help of claude\n",
        "# SAMPLE_RATE = 22050\n",
        "# N_MELS = 128\n",
        "# N_FFT = 2048\n",
        "# HOP_LENGTH = 512\n",
        "# MAX_LENGTH = 1000  # Maximum number of time steps\n",
        "# SEQUENCE_LENGTH = 100  # Length of sequences for LSTM\n",
        "\n",
        "# Fixed dimensions for simplicity\n",
        "PIANO_ROLL_WIDTH = 500\n",
        "AUDIO_WIDTH = 200\n",
        "SEQUENCE_LENGTH = 80\n",
        "N_MELS = 128"
      ],
      "metadata": {
        "id": "o4WizmXY7Qi_"
      },
      "execution_count": 5,
      "outputs": []
    },
    {
      "cell_type": "code",
      "source": [
        "DATASET_PATH = '/content/gdrive/MyDrive/archive/midiclassics' # Google drive\n",
        "MIDI_EXTENSIONS = ['.mid', '.midi']"
      ],
      "metadata": {
        "id": "VTQZGCe7Bvvj"
      },
      "execution_count": 6,
      "outputs": []
    },
    {
      "cell_type": "code",
      "source": [
        "# Target composers\n",
        "TARGET_COMPOSERS = ['Bach', 'Beethoven', 'Chopin', 'Mozart']\n",
        "COMPOSER_TO_LABEL = {composer: idx for idx, composer in enumerate(TARGET_COMPOSERS)}\n",
        "LABEL_TO_COMPOSER = {idx: composer for idx, composer in enumerate(TARGET_COMPOSERS)}"
      ],
      "metadata": {
        "id": "pik6qyNKBr9S"
      },
      "execution_count": 7,
      "outputs": []
    },
    {
      "cell_type": "code",
      "source": [
        "midi_files = []\n",
        "labels = []\n",
        "\n",
        "for root, dirs, files in os.walk(DATASET_PATH):\n",
        "    for file in files:\n",
        "        if file.lower().endswith(('.mid', '.midi')):\n",
        "            file_path = os.path.join(root, file)\n",
        "\n",
        "            composer_found = None\n",
        "            for composer in TARGET_COMPOSERS:\n",
        "                if composer.lower() in file_path.lower():\n",
        "                    composer_found = composer\n",
        "                    break\n",
        "\n",
        "            if composer_found:\n",
        "                midi_files.append(file_path)\n",
        "                labels.append(COMPOSER_TO_LABEL[composer_found])\n",
        "\n",
        "print(f\"Found {len(midi_files)} MIDI files\")\n",
        "for composer in TARGET_COMPOSERS:\n",
        "    count = labels.count(COMPOSER_TO_LABEL[composer])\n",
        "    print(f\"{composer}: {count} files\")"
      ],
      "metadata": {
        "id": "kyxQ0lv-CaPD",
        "colab": {
          "base_uri": "https://localhost:8080/"
        },
        "outputId": "60dc96ce-2fe5-46c9-9370-81b280a5a42e"
      },
      "execution_count": 9,
      "outputs": [
        {
          "output_type": "stream",
          "name": "stdout",
          "text": [
            "Found 1659 MIDI files\n",
            "Bach: 1049 files\n",
            "Beethoven: 213 files\n",
            "Chopin: 138 files\n",
            "Mozart: 259 files\n"
          ]
        }
      ]
    },
    {
      "cell_type": "code",
      "source": [
        "# 2. FEATURE EXTRACTION - Combined to a single cell after multiple iterations\n",
        "\n",
        "processed_data = []\n",
        "\n",
        "for file_path, label in tqdm(zip(midi_files, labels), total=len(midi_files)):\n",
        "    try:\n",
        "        # Load MIDI\n",
        "        midi_data = pretty_midi.PrettyMIDI(file_path)\n",
        "\n",
        "        # Extract piano roll - fixed size\n",
        "        piano_roll = midi_data.get_piano_roll(fs=10)\n",
        "        if piano_roll.shape[1] == 0:\n",
        "            continue\n",
        "\n",
        "        # Resize to fixed width\n",
        "        if piano_roll.shape[1] > PIANO_ROLL_WIDTH:\n",
        "            piano_roll = piano_roll[:, :PIANO_ROLL_WIDTH]\n",
        "        else:\n",
        "            padding = PIANO_ROLL_WIDTH - piano_roll.shape[1]\n",
        "            piano_roll = np.pad(piano_roll, ((0, 0), (0, padding)), 'constant')\n",
        "\n",
        "        # Ensure 128 pitch classes\n",
        "        if piano_roll.shape[0] != 128:\n",
        "            temp_roll = np.zeros((128, PIANO_ROLL_WIDTH))\n",
        "            min_pitches = min(piano_roll.shape[0], 128)\n",
        "            temp_roll[:min_pitches, :] = piano_roll[:min_pitches, :]\n",
        "            piano_roll = temp_roll\n",
        "\n",
        "        piano_roll = (piano_roll > 0).astype(np.float32)\n",
        "\n",
        "        # Extract note features - fixed size\n",
        "        note_features = []\n",
        "        for instrument in midi_data.instruments:\n",
        "            if not instrument.is_drum:\n",
        "                for note in instrument.notes:\n",
        "                    note_features.append([\n",
        "                        note.pitch / 127.0,\n",
        "                        note.velocity / 127.0,\n",
        "                        min(note.end - note.start, 10.0) / 10.0,\n",
        "                        min(note.start, 100.0) / 100.0\n",
        "                    ])\n",
        "\n",
        "        if not note_features:\n",
        "            note_features = np.zeros((SEQUENCE_LENGTH, 4), dtype=np.float32)\n",
        "        else:\n",
        "            note_features = np.array(note_features)\n",
        "            # Use your approach - keep minimum rows\n",
        "            max_rows = min(len(note_features), SEQUENCE_LENGTH)\n",
        "            if max_rows > 0:\n",
        "                note_features = note_features[:max_rows]\n",
        "                if len(note_features) < SEQUENCE_LENGTH:\n",
        "                    padding = SEQUENCE_LENGTH - len(note_features)\n",
        "                    note_features = np.pad(note_features, ((0, padding), (0, 0)), 'constant')\n",
        "            else:\n",
        "                note_features = np.zeros((SEQUENCE_LENGTH, 4), dtype=np.float32)\n",
        "\n",
        "        # Extract audio features - fixed size\n",
        "        try:\n",
        "            audio = midi_data.synthesize(fs=22050)\n",
        "            if len(audio) > 0:\n",
        "                mel_spec = librosa.feature.melspectrogram(y=audio, sr=22050, n_mels=N_MELS)\n",
        "                mel_spec = librosa.power_to_db(mel_spec)\n",
        "\n",
        "                # Resize to fixed width\n",
        "                if mel_spec.shape[1] > AUDIO_WIDTH:\n",
        "                    mel_spec = mel_spec[:, :AUDIO_WIDTH]\n",
        "                else:\n",
        "                    padding = AUDIO_WIDTH - mel_spec.shape[1]\n",
        "                    mel_spec = np.pad(mel_spec, ((0, 0), (0, padding)), 'constant', constant_values=-80)\n",
        "\n",
        "                mel_spec = (mel_spec + 80) / 80  # Normalize\n",
        "            else:\n",
        "                mel_spec = np.zeros((N_MELS, AUDIO_WIDTH), dtype=np.float32)\n",
        "        except:\n",
        "            mel_spec = np.zeros((N_MELS, AUDIO_WIDTH), dtype=np.float32)\n",
        "\n",
        "        # Statistical features\n",
        "        note_density = np.mean(np.sum(piano_roll, axis=0))\n",
        "        pitch_range = np.sum(np.sum(piano_roll, axis=1) > 0)\n",
        "        chord_ratio = np.mean(np.sum(piano_roll, axis=0) > 1)\n",
        "\n",
        "        stats = np.array([note_density, pitch_range / 128.0, chord_ratio], dtype=np.float32)\n",
        "\n",
        "        processed_data.append({\n",
        "            'piano_roll': piano_roll,\n",
        "            'note_features': note_features.astype(np.float32),\n",
        "            'audio_features': mel_spec.astype(np.float32),\n",
        "            'statistical_features': stats,\n",
        "            'label': label\n",
        "        })\n",
        "\n",
        "    except Exception as e:\n",
        "        print(f\"Error processing {file_path}: {e}\")\n",
        "        continue\n",
        "\n",
        "print(f\"Successfully processed {len(processed_data)} files\")"
      ],
      "metadata": {
        "id": "RGnvJxdCIGgZ",
        "colab": {
          "base_uri": "https://localhost:8080/"
        },
        "outputId": "503185dd-db66-47af-fd6c-1be0ecbdc230"
      },
      "execution_count": 12,
      "outputs": [
        {
          "output_type": "stream",
          "name": "stderr",
          "text": [
            "  1%|▏         | 23/1659 [00:42<57:54,  2.12s/it]"
          ]
        },
        {
          "output_type": "stream",
          "name": "stdout",
          "text": [
            "Error processing /content/gdrive/MyDrive/archive/midiclassics/Varios - Ti'tulo desconocido/a_h/chopin7.mid: MThd not found. Probably not a MIDI file\n"
          ]
        },
        {
          "output_type": "stream",
          "name": "stderr",
          "text": [
            " 64%|██████▍   | 1065/1659 [26:36<1:28:38,  8.95s/it]"
          ]
        },
        {
          "output_type": "stream",
          "name": "stdout",
          "text": [
            "Error processing /content/gdrive/MyDrive/archive/midiclassics/Beethoven/Anhang 14-3.mid: Could not decode key with 3 flats and mode 255\n"
          ]
        },
        {
          "output_type": "stream",
          "name": "stderr",
          "text": [
            " 94%|█████████▎| 1552/1659 [59:12<07:09,  4.02s/it]"
          ]
        },
        {
          "output_type": "stream",
          "name": "stdout",
          "text": [
            "Error processing /content/gdrive/MyDrive/archive/midiclassics/Mozart/Piano Sonatas/Nueva carpeta/K281 Piano Sonata n03 3mov.mid: Could not decode key with 2 flats and mode 2\n"
          ]
        },
        {
          "output_type": "stream",
          "name": "stderr",
          "text": [
            "100%|██████████| 1659/1659 [1:05:34<00:00,  2.37s/it]"
          ]
        },
        {
          "output_type": "stream",
          "name": "stdout",
          "text": [
            "Successfully processed 1656 files\n"
          ]
        },
        {
          "output_type": "stream",
          "name": "stderr",
          "text": [
            "\n"
          ]
        }
      ]
    },
    {
      "cell_type": "code",
      "source": [
        "### https://github.com/cuthbertLab/music21/issues/370 - Piano roll function"
      ],
      "metadata": {
        "id": "JJR6x9_ZDWsy"
      },
      "execution_count": 13,
      "outputs": []
    },
    {
      "cell_type": "code",
      "source": [
        "## https://capital-g.github.io/musikinformatik-sose2021/01_midi_drums/01_midi_drums.html - Extracting information from MIDI files"
      ],
      "metadata": {
        "id": "bKzZN0QLDv8l"
      },
      "execution_count": 14,
      "outputs": []
    },
    {
      "cell_type": "code",
      "source": [
        "### Writing intermediate data to save to location\n",
        "import pickle\n",
        "\n",
        "with open('/content/gdrive/MyDrive/archive/data.pkl', 'wb') as file:\n",
        "    pickle.dump(processed_data, file)"
      ],
      "metadata": {
        "id": "N5zvUUYNHTVq"
      },
      "execution_count": 15,
      "outputs": []
    },
    {
      "cell_type": "code",
      "source": [
        "#### Loading the data back. Restarting here\n",
        "import pickle\n",
        "with open('/content/gdrive/MyDrive/archive/data.pkl', 'rb') as file:\n",
        "    processed_data = pickle.load(file)\n",
        "print(len(processed_data))"
      ],
      "metadata": {
        "colab": {
          "base_uri": "https://localhost:8080/"
        },
        "id": "I88F2qyzaSE_",
        "outputId": "c533c95c-3938-462f-93bc-6792363fd6aa"
      },
      "execution_count": 8,
      "outputs": [
        {
          "output_type": "stream",
          "name": "stdout",
          "text": [
            "1656\n"
          ]
        }
      ]
    },
    {
      "cell_type": "code",
      "source": [
        "# Data augmentation functions - Use to improve model performace\n",
        "# https://towardsdatascience.com/data-augmentation-techniques-for-audio-data-in-python-15505483c63c/\n",
        "\n",
        "def transpose_piano_roll(piano_roll, semitones):\n",
        "    \"\"\"Transpose piano roll by given semitones\"\"\"\n",
        "    if semitones == 0:\n",
        "        return piano_roll.copy()\n",
        "\n",
        "    new_piano_roll = np.zeros_like(piano_roll)\n",
        "\n",
        "    if semitones > 0:\n",
        "        # Transpose up: shift notes to higher pitches\n",
        "        new_piano_roll[semitones:, :] = piano_roll[:-semitones, :]\n",
        "    else:\n",
        "        # Transpose down: shift notes to lower pitches\n",
        "        new_piano_roll[:semitones, :] = piano_roll[-semitones:, :]\n",
        "\n",
        "    return new_piano_roll"
      ],
      "metadata": {
        "id": "v1WMa7kIEQ5J"
      },
      "execution_count": 9,
      "outputs": []
    },
    {
      "cell_type": "code",
      "source": [
        "def time_stretch(features, factor):\n",
        "    \"\"\"Apply time stretching to features\"\"\"\n",
        "    if factor == 1.0:\n",
        "        return features.copy()\n",
        "\n",
        "    if len(features.shape) == 2:  # 2D features\n",
        "        original_length = features.shape[1]\n",
        "        new_length = int(original_length * factor)\n",
        "\n",
        "        # Create output with same shape as input\n",
        "        stretched = np.zeros_like(features)\n",
        "\n",
        "        if new_length <= features.shape[1]:\n",
        "            # Compress: take every nth sample\n",
        "            indices = np.linspace(0, original_length-1, new_length).astype(int)\n",
        "            stretched[:, :new_length] = features[:, indices]\n",
        "        else:\n",
        "            # Expand: simple interpolation\n",
        "            for i in range(features.shape[0]):\n",
        "                stretched[i, :] = np.interp(\n",
        "                    np.linspace(0, original_length-1, features.shape[1]),\n",
        "                    np.linspace(0, new_length-1, min(new_length, features.shape[1])),\n",
        "                    features[i, :min(new_length, features.shape[1])]\n",
        "                )\n",
        "\n",
        "        return stretched\n",
        "    else:\n",
        "        return features.copy()"
      ],
      "metadata": {
        "id": "ccnfxnGeGQ_a"
      },
      "execution_count": 10,
      "outputs": []
    },
    {
      "cell_type": "code",
      "source": [
        "def add_noise(features, noise_factor=0.01):\n",
        "    \"\"\"Add small amount of noise to features\"\"\"\n",
        "    noise = np.random.normal(0, noise_factor, features.shape)\n",
        "    return features + noise.astype(features.dtype)"
      ],
      "metadata": {
        "id": "Jv-uC1OKye15"
      },
      "execution_count": 11,
      "outputs": []
    },
    {
      "cell_type": "code",
      "source": [
        "# Apply data augmentation - Claude usage involved to figure parameters\n",
        "augmented_data = []\n",
        "\n",
        "for data_point in processed_data:\n",
        "    # Original data\n",
        "    augmented_data.append(data_point)\n",
        "\n",
        "    # Transposition augmentation (±2 semitones)\n",
        "    for semitones in [-2, -1, 1, 2]:\n",
        "        transposed_piano_roll = transpose_piano_roll(data_point['piano_roll'], semitones)\n",
        "\n",
        "        augmented_data.append({\n",
        "            'piano_roll': transposed_piano_roll,\n",
        "            'note_features': data_point['note_features'].copy(),\n",
        "            'audio_features': data_point['audio_features'].copy(),\n",
        "            'statistical_features': data_point['statistical_features'].copy(),\n",
        "            'label': data_point['label']\n",
        "        })\n",
        "\n",
        "    # Time stretching augmentation\n",
        "    for factor in [0.9, 1.1]:\n",
        "        stretched_piano_roll = time_stretch(data_point['piano_roll'], factor)\n",
        "        stretched_audio = time_stretch(data_point['audio_features'], factor)\n",
        "\n",
        "        augmented_data.append({\n",
        "            'piano_roll': stretched_piano_roll,\n",
        "            'note_features': data_point['note_features'].copy(),\n",
        "            'audio_features': stretched_audio,\n",
        "            'statistical_features': data_point['statistical_features'].copy(),\n",
        "            'label': data_point['label']\n",
        "        })\n",
        "\n",
        "    # Noise augmentation\n",
        "    for noise_level in [0.005, 0.01]:\n",
        "        noisy_piano_roll = add_noise(data_point['piano_roll'], noise_level)\n",
        "        noisy_audio = add_noise(data_point['audio_features'], noise_level)\n",
        "\n",
        "        augmented_data.append({\n",
        "            'piano_roll': noisy_piano_roll,\n",
        "            'note_features': data_point['note_features'].copy(),\n",
        "            'audio_features': noisy_audio,\n",
        "            'statistical_features': data_point['statistical_features'].copy(),\n",
        "            'label': data_point['label']\n",
        "        })\n",
        "\n",
        "print(f\"After augmentation: {len(augmented_data)} samples (from {len(processed_data)} original)\")\n"
      ],
      "metadata": {
        "colab": {
          "base_uri": "https://localhost:8080/"
        },
        "id": "44ptxJjPGUIG",
        "outputId": "ec77e5f3-8ce9-491b-9adc-b99e968a0d26"
      },
      "execution_count": 12,
      "outputs": [
        {
          "output_type": "stream",
          "name": "stdout",
          "text": [
            "After augmentation: 14904 samples (from 1656 original)\n"
          ]
        }
      ]
    },
    {
      "cell_type": "code",
      "source": [
        "# Verify augmented data shapes - Check from claude\n",
        "if augmented_data:\n",
        "    sample = augmented_data[0]\n",
        "    print(f\"Augmented data shape verification:\")\n",
        "    print(f\"Piano roll: {sample['piano_roll'].shape}\")\n",
        "    print(f\"Note features: {sample['note_features'].shape}\")\n",
        "    print(f\"Audio features: {sample['audio_features'].shape}\")\n",
        "    print(f\"Statistical features: {sample['statistical_features'].shape}\")\n",
        "\n",
        "    # Check a few random samples to ensure consistency\n",
        "    shapes_consistent = True\n",
        "    for i in range(min(10, len(augmented_data))):\n",
        "        sample = augmented_data[i]\n",
        "        if (sample['piano_roll'].shape != (128, PIANO_ROLL_WIDTH) or\n",
        "            sample['note_features'].shape != (SEQUENCE_LENGTH, 4) or\n",
        "            sample['audio_features'].shape != (N_MELS, AUDIO_WIDTH)):\n",
        "            shapes_consistent = False\n",
        "            print(f\"Shape inconsistency at sample {i}\")\n",
        "            break\n",
        "\n",
        "    if shapes_consistent:\n",
        "        print(\"All augmented samples have consistent shapes!\")\n",
        "    else:\n",
        "        print(\"Shape inconsistencies found in augmented data\")"
      ],
      "metadata": {
        "colab": {
          "base_uri": "https://localhost:8080/"
        },
        "id": "RDRMKX5uPwuM",
        "outputId": "5552fc61-59b6-41c9-fdd2-c96a0074a6e3"
      },
      "execution_count": 13,
      "outputs": [
        {
          "output_type": "stream",
          "name": "stdout",
          "text": [
            "Augmented data shape verification:\n",
            "Piano roll: (128, 500)\n",
            "Note features: (80, 4)\n",
            "Audio features: (128, 200)\n",
            "Statistical features: (3,)\n",
            "All augmented samples have consistent shapes!\n"
          ]
        }
      ]
    },
    {
      "cell_type": "code",
      "source": [
        "# 3. FEATURE EXTRACTION (Additional Features)\n",
        "\n",
        "def extract_statistical_features(piano_roll):\n",
        "    \"\"\"Extract statistical features from piano roll\"\"\"\n",
        "    features = []\n",
        "\n",
        "    # Note density over time\n",
        "    note_density = np.sum(piano_roll, axis=0)\n",
        "    features.extend([\n",
        "        np.mean(note_density),\n",
        "        np.std(note_density),\n",
        "        np.max(note_density),\n",
        "        np.min(note_density)\n",
        "    ])\n",
        "\n",
        "    # Pitch range statistics\n",
        "    active_pitches = np.sum(piano_roll, axis=1)\n",
        "    active_pitch_indices = np.where(active_pitches > 0)[0]\n",
        "\n",
        "    if len(active_pitch_indices) > 0:\n",
        "        features.extend([\n",
        "            np.min(active_pitch_indices),  # Lowest pitch\n",
        "            np.max(active_pitch_indices),  # Highest pitch\n",
        "            np.max(active_pitch_indices) - np.min(active_pitch_indices),  # Pitch range\n",
        "            np.mean(active_pitch_indices)  # Average pitch\n",
        "        ])\n",
        "    else:\n",
        "        features.extend([0, 0, 0, 0])\n",
        "\n",
        "    # Chord analysis - count simultaneous notes\n",
        "    simultaneous_notes = np.sum(piano_roll, axis=0)\n",
        "    chord_counts = Counter(simultaneous_notes)\n",
        "\n",
        "    features.extend([\n",
        "        chord_counts.get(0, 0) / len(simultaneous_notes),  # Silence ratio\n",
        "        chord_counts.get(1, 0) / len(simultaneous_notes),  # Single note ratio\n",
        "        sum(count for notes, count in chord_counts.items() if notes >= 2) / len(simultaneous_notes)  # Chord ratio\n",
        "    ])\n",
        "\n",
        "    return np.array(features, dtype=np.float32)"
      ],
      "metadata": {
        "id": "7KE-c8W1Go2P"
      },
      "execution_count": 14,
      "outputs": []
    },
    {
      "cell_type": "code",
      "source": [
        "print(\"Extracting statistical features...\")\n",
        "for data_point in tqdm(augmented_data):\n",
        "    statistical_features = extract_statistical_features(data_point['piano_roll'])\n",
        "    data_point['statistical_features'] = statistical_features\n"
      ],
      "metadata": {
        "colab": {
          "base_uri": "https://localhost:8080/"
        },
        "id": "GZ3y80u3UTM4",
        "outputId": "073b8ead-ecc8-403c-f397-07b1a26d7e89"
      },
      "execution_count": 15,
      "outputs": [
        {
          "output_type": "stream",
          "name": "stdout",
          "text": [
            "Extracting statistical features...\n"
          ]
        },
        {
          "output_type": "stream",
          "name": "stderr",
          "text": [
            "100%|██████████| 14904/14904 [00:04<00:00, 3388.49it/s]\n"
          ]
        }
      ]
    },
    {
      "cell_type": "code",
      "source": [
        "class ComposerDataset(Dataset):\n",
        "    def __init__(self, data):\n",
        "        self.data = data\n",
        "\n",
        "    def __len__(self):\n",
        "        return len(self.data)\n",
        "\n",
        "    def __getitem__(self, idx):\n",
        "        item = self.data[idx]\n",
        "        return {\n",
        "            'piano_roll': torch.FloatTensor(item['piano_roll']),\n",
        "            'note_features': torch.FloatTensor(item['note_features']),\n",
        "            'audio_features': torch.FloatTensor(item['audio_features']),\n",
        "            'statistical_features': torch.FloatTensor(item['statistical_features']),\n",
        "            'label': torch.LongTensor([item['label']])[0]\n",
        "        }"
      ],
      "metadata": {
        "id": "vZlcaAWUUTyr"
      },
      "execution_count": 16,
      "outputs": []
    },
    {
      "cell_type": "code",
      "source": [
        "# Create dataset from augmented data and split\n",
        "dataset = ComposerDataset(augmented_data)\n",
        "train_size = int(0.7 * len(dataset))\n",
        "val_size = int(0.15 * len(dataset))\n",
        "test_size = len(dataset) - train_size - val_size\n",
        "\n",
        "train_dataset, val_dataset, test_dataset = random_split(dataset, [train_size, val_size, test_size])\n"
      ],
      "metadata": {
        "id": "lbMsxqZqc6Ea"
      },
      "execution_count": 17,
      "outputs": []
    },
    {
      "cell_type": "code",
      "source": [
        "# Create dataloaders\n",
        "batch_size = 32\n",
        "train_loader = DataLoader(train_dataset, batch_size=batch_size, shuffle=True)\n",
        "val_loader = DataLoader(val_dataset, batch_size=batch_size, shuffle=False)\n",
        "test_loader = DataLoader(test_dataset, batch_size=batch_size, shuffle=False)\n",
        "\n",
        "print(f\"Dataset split - Train: {len(train_dataset)}, Val: {len(val_dataset)}, Test: {len(test_dataset)}\")"
      ],
      "metadata": {
        "colab": {
          "base_uri": "https://localhost:8080/"
        },
        "id": "RNgaER48dJHi",
        "outputId": "b000b08c-66d1-403c-8075-72bd041be48c"
      },
      "execution_count": 18,
      "outputs": [
        {
          "output_type": "stream",
          "name": "stdout",
          "text": [
            "Dataset split - Train: 10432, Val: 2235, Test: 2237\n"
          ]
        }
      ]
    },
    {
      "cell_type": "code",
      "source": [
        "class SimpleComposerClassifier(nn.Module):\n",
        "    def __init__(self, num_classes=4):\n",
        "        super(SimpleComposerClassifier, self).__init__()\n",
        "\n",
        "        # Piano roll CNN\n",
        "        self.piano_cnn = nn.Sequential(\n",
        "            nn.Conv2d(1, 32, 3, padding=1),\n",
        "            nn.ReLU(),\n",
        "            nn.MaxPool2d(2),\n",
        "            nn.Dropout2d(0.2),\n",
        "            nn.Conv2d(32, 64, 3, padding=1),\n",
        "            nn.ReLU(),\n",
        "            nn.MaxPool2d(2),\n",
        "            nn.Dropout2d(0.2),\n",
        "            nn.Conv2d(64, 128, 3, padding=1),\n",
        "            nn.ReLU(),\n",
        "            nn.AdaptiveAvgPool2d((4, 8))  # Fixed output size\n",
        "        )\n",
        "\n",
        "        # Audio CNN\n",
        "        self.audio_cnn = nn.Sequential(\n",
        "            nn.Conv2d(1, 32, 3, padding=1),\n",
        "            nn.ReLU(),\n",
        "            nn.MaxPool2d(2),\n",
        "            nn.Dropout2d(0.2),\n",
        "            nn.Conv2d(32, 64, 3, padding=1),\n",
        "            nn.ReLU(),\n",
        "            nn.AdaptiveAvgPool2d((4, 4))  # Fixed output size\n",
        "        )\n",
        "\n",
        "        # Note LSTM\n",
        "        self.note_lstm = nn.LSTM(4, 64, batch_first=True, bidirectional=True, dropout=0.2)\n",
        "\n",
        "        # Initialize classifier as None - will be created after calculating dimensions\n",
        "        self.classifier = None\n",
        "        self.total_features = None\n",
        "\n",
        "    def _get_feature_dims(self, piano_roll, note_features, audio_features, statistical_features):\n",
        "        \"\"\"Calculate feature dimensions on first forward pass\"\"\"\n",
        "        if self.total_features is None:\n",
        "            with torch.no_grad():\n",
        "                # Piano features\n",
        "                piano_roll_input = piano_roll.unsqueeze(1) if len(piano_roll.shape) == 3 else piano_roll\n",
        "                piano_feat = self.piano_cnn(piano_roll_input[:1])  # Use just first sample\n",
        "                piano_feat = piano_feat.view(piano_feat.size(0), -1)\n",
        "                piano_features = piano_feat.shape[1]\n",
        "\n",
        "                # Audio features\n",
        "                audio_input = audio_features.unsqueeze(1) if len(audio_features.shape) == 3 else audio_features\n",
        "                audio_feat = self.audio_cnn(audio_input[:1])  # Use just first sample\n",
        "                audio_feat = audio_feat.view(audio_feat.size(0), -1)\n",
        "                audio_features_count = audio_feat.shape[1]\n",
        "\n",
        "                # LSTM features\n",
        "                lstm_out, _ = self.note_lstm(note_features[:1])  # Use just first sample\n",
        "                note_feat = torch.mean(lstm_out, dim=1)\n",
        "                lstm_features = note_feat.shape[1]\n",
        "\n",
        "                # Statistical features\n",
        "                stat_features = statistical_features.shape[1]\n",
        "\n",
        "            self.piano_features = piano_features\n",
        "            self.audio_features_count = audio_features_count\n",
        "            self.lstm_features = lstm_features\n",
        "            self.stat_features = stat_features\n",
        "            self.total_features = piano_features + audio_features_count + lstm_features + stat_features\n",
        "\n",
        "            # Create classifier with correct dimensions\n",
        "            self.classifier = nn.Sequential(\n",
        "                nn.Linear(self.total_features, 512),\n",
        "                nn.ReLU(),\n",
        "                nn.Dropout(0.5),\n",
        "                nn.Linear(512, 256),\n",
        "                nn.ReLU(),\n",
        "                nn.Dropout(0.3),\n",
        "                nn.Linear(256, 128),\n",
        "                nn.ReLU(),\n",
        "                nn.Dropout(0.2),\n",
        "                nn.Linear(128, len(TARGET_COMPOSERS))\n",
        "            ).to(piano_roll.device)\n",
        "\n",
        "\n",
        "    def forward(self, piano_roll, note_features, audio_features, statistical_features):\n",
        "        # Calculate dimensions on first forward pass\n",
        "        self._get_feature_dims(piano_roll, note_features, audio_features, statistical_features)\n",
        "\n",
        "        # Piano roll features\n",
        "        piano_roll = piano_roll.unsqueeze(1)\n",
        "        piano_feat = self.piano_cnn(piano_roll)\n",
        "        piano_feat = piano_feat.view(piano_feat.size(0), -1)\n",
        "\n",
        "        # Audio features\n",
        "        audio_features = audio_features.unsqueeze(1)\n",
        "        audio_feat = self.audio_cnn(audio_features)\n",
        "        audio_feat = audio_feat.view(audio_feat.size(0), -1)\n",
        "\n",
        "        # Note features\n",
        "        lstm_out, (hidden, _) = self.note_lstm(note_features)\n",
        "        note_feat = torch.mean(lstm_out, dim=1)  # Global average pooling\n",
        "\n",
        "        # Combine all features\n",
        "        combined = torch.cat([piano_feat, audio_feat, note_feat, statistical_features], dim=1)\n",
        "\n",
        "        return self.classifier(combined)"
      ],
      "metadata": {
        "id": "KQgpmPYOdXE6"
      },
      "execution_count": 19,
      "outputs": []
    },
    {
      "cell_type": "code",
      "source": [
        "# Initialize adaptive model\n",
        "model = SimpleComposerClassifier(num_classes=len(TARGET_COMPOSERS))\n",
        "model = model.to(device)\n",
        "\n",
        "print(\"Adaptive Model architecture:\")\n",
        "print(model)"
      ],
      "metadata": {
        "colab": {
          "base_uri": "https://localhost:8080/"
        },
        "id": "bRLggGFddhX9",
        "outputId": "6ef18ca7-57c9-4fee-ca15-4cbd3bb764fc"
      },
      "execution_count": 20,
      "outputs": [
        {
          "output_type": "stream",
          "name": "stdout",
          "text": [
            "Adaptive Model architecture:\n",
            "SimpleComposerClassifier(\n",
            "  (piano_cnn): Sequential(\n",
            "    (0): Conv2d(1, 32, kernel_size=(3, 3), stride=(1, 1), padding=(1, 1))\n",
            "    (1): ReLU()\n",
            "    (2): MaxPool2d(kernel_size=2, stride=2, padding=0, dilation=1, ceil_mode=False)\n",
            "    (3): Dropout2d(p=0.2, inplace=False)\n",
            "    (4): Conv2d(32, 64, kernel_size=(3, 3), stride=(1, 1), padding=(1, 1))\n",
            "    (5): ReLU()\n",
            "    (6): MaxPool2d(kernel_size=2, stride=2, padding=0, dilation=1, ceil_mode=False)\n",
            "    (7): Dropout2d(p=0.2, inplace=False)\n",
            "    (8): Conv2d(64, 128, kernel_size=(3, 3), stride=(1, 1), padding=(1, 1))\n",
            "    (9): ReLU()\n",
            "    (10): AdaptiveAvgPool2d(output_size=(4, 8))\n",
            "  )\n",
            "  (audio_cnn): Sequential(\n",
            "    (0): Conv2d(1, 32, kernel_size=(3, 3), stride=(1, 1), padding=(1, 1))\n",
            "    (1): ReLU()\n",
            "    (2): MaxPool2d(kernel_size=2, stride=2, padding=0, dilation=1, ceil_mode=False)\n",
            "    (3): Dropout2d(p=0.2, inplace=False)\n",
            "    (4): Conv2d(32, 64, kernel_size=(3, 3), stride=(1, 1), padding=(1, 1))\n",
            "    (5): ReLU()\n",
            "    (6): AdaptiveAvgPool2d(output_size=(4, 4))\n",
            "  )\n",
            "  (note_lstm): LSTM(4, 64, batch_first=True, dropout=0.2, bidirectional=True)\n",
            ")\n"
          ]
        }
      ]
    },
    {
      "cell_type": "code",
      "source": [
        "# Count parameters\n",
        "total_params = sum(p.numel() for p in model.parameters())\n",
        "trainable_params = sum(p.numel() for p in model.parameters() if p.requires_grad)\n",
        "print(f\"\\nTotal parameters: {total_params:,}\")\n",
        "print(f\"Trainable parameters: {trainable_params:,}\")"
      ],
      "metadata": {
        "colab": {
          "base_uri": "https://localhost:8080/"
        },
        "id": "4xUQKqOzdoHb",
        "outputId": "47105cca-4605-42e1-8dd8-855548d432fd"
      },
      "execution_count": 21,
      "outputs": [
        {
          "output_type": "stream",
          "name": "stdout",
          "text": [
            "\n",
            "Total parameters: 147,328\n",
            "Trainable parameters: 147,328\n"
          ]
        }
      ]
    },
    {
      "cell_type": "code",
      "source": [
        "# Test batch loading with variable sizes - Sanity Check\n",
        "print(\"Testing flexible batch loading...\")\n",
        "try:\n",
        "    test_batch = next(iter(train_loader))\n",
        "\n",
        "    print(\"Flexible batch loaded successfully!\")\n",
        "    print(f\"Batch shapes (max-padded in this batch):\")\n",
        "    print(f\"Piano roll: {test_batch['piano_roll'].shape}\")\n",
        "    print(f\"Note features: {test_batch['note_features'].shape}\")\n",
        "    print(f\"Audio features: {test_batch['audio_features'].shape}\")\n",
        "    print(f\"Statistical features: {test_batch['statistical_features'].shape}\")\n",
        "    print(f\"Labels: {test_batch['label'].shape}\")\n",
        "\n",
        "except Exception as e:\n",
        "    print(f\"Error with batch loading: {e}\")\n",
        "    raise e\n",
        "\n",
        "print(\"Data loaders created successfully!\")"
      ],
      "metadata": {
        "colab": {
          "base_uri": "https://localhost:8080/"
        },
        "id": "kf3qfba76WDM",
        "outputId": "13fe18b9-30ac-4e9e-c2fa-6ba8dcf1d17f"
      },
      "execution_count": 22,
      "outputs": [
        {
          "output_type": "stream",
          "name": "stdout",
          "text": [
            "Testing flexible batch loading...\n",
            "Flexible batch loaded successfully!\n",
            "Batch shapes (max-padded in this batch):\n",
            "Piano roll: torch.Size([32, 128, 500])\n",
            "Note features: torch.Size([32, 80, 4])\n",
            "Audio features: torch.Size([32, 128, 200])\n",
            "Statistical features: torch.Size([32, 11])\n",
            "Labels: torch.Size([32])\n",
            "Data loaders created successfully!\n"
          ]
        }
      ]
    },
    {
      "cell_type": "code",
      "source": [
        "# Test the model with variable-sized inputs - Sanity Check\n",
        "print(\"Testing model with variable input sizes...\")\n",
        "with torch.no_grad():\n",
        "    # Test with different sizes\n",
        "    test_cases = [\n",
        "        {\n",
        "            'piano_roll': torch.randn(2, 128, 500),  # Smaller width\n",
        "            'note_features': torch.randn(2, 80, 4),   # Shorter sequence\n",
        "            'audio_features': torch.randn(2, 128, 200),  # Different audio length\n",
        "            'statistical_features': torch.randn(2, 11)\n",
        "        },\n",
        "        {\n",
        "            'piano_roll': torch.randn(2, 128, 1000),  # Original width\n",
        "            'note_features': torch.randn(2, 100, 4),   # Original sequence\n",
        "            'audio_features': torch.randn(2, 128, 250),  # Different audio length\n",
        "            'statistical_features': torch.randn(2, 11)\n",
        "        },\n",
        "        {\n",
        "            'piano_roll': torch.randn(2, 128, 1500),  # Larger width\n",
        "            'note_features': torch.randn(2, 150, 4),   # Longer sequence\n",
        "            'audio_features': torch.randn(2, 128, 300),  # Different audio length\n",
        "            'statistical_features': torch.randn(2, 11)\n",
        "        }\n",
        "    ]\n",
        "\n",
        "    for i, test_input in enumerate(test_cases):\n",
        "        try:\n",
        "            output = model(\n",
        "                test_input['piano_roll'].to(device),\n",
        "                test_input['note_features'].to(device),\n",
        "                test_input['audio_features'].to(device),\n",
        "                test_input['statistical_features'].to(device)\n",
        "            )\n",
        "            print(f\"Test case {i+1}: Input shapes {test_input['piano_roll'].shape}, \"\n",
        "                  f\"{test_input['note_features'].shape}, {test_input['audio_features'].shape} \"\n",
        "                  f\"Output shape: {output.shape}\")\n",
        "        except Exception as e:\n",
        "            print(f\"Test case {i+1} failed: {e}\")\n",
        "\n",
        "print(\"Model can handle variable input sizes!\")\n",
        "\n",
        "# Test model with real batch\n",
        "print(\"Testing model with real flexible batch...\")\n",
        "model.eval()\n",
        "with torch.no_grad():\n",
        "    test_batch_gpu = {\n",
        "        'piano_roll': test_batch['piano_roll'].to(device),\n",
        "        'note_features': test_batch['note_features'].to(device),\n",
        "        'audio_features': test_batch['audio_features'].to(device),\n",
        "        'statistical_features': test_batch['statistical_features'].to(device)\n",
        "    }\n",
        "\n",
        "    output = model(\n",
        "        test_batch_gpu['piano_roll'],\n",
        "        test_batch_gpu['note_features'],\n",
        "        test_batch_gpu['audio_features'],\n",
        "        test_batch_gpu['statistical_features']\n",
        "    )\n",
        "\n",
        "    print(f\"Model forward pass with real data successful! Output shape: {output.shape}\")\n",
        "    print(f\"Sample predictions: {torch.softmax(output[:3], dim=1)}\")\n",
        "\n",
        "print(\"Model is ready for training!\")"
      ],
      "metadata": {
        "colab": {
          "base_uri": "https://localhost:8080/"
        },
        "id": "7nvA_OxI6Frc",
        "outputId": "74bf612a-9da4-406b-b7ba-63959f94439f"
      },
      "execution_count": 23,
      "outputs": [
        {
          "output_type": "stream",
          "name": "stdout",
          "text": [
            "Testing model with variable input sizes...\n",
            "Test case 1: Input shapes torch.Size([2, 128, 500]), torch.Size([2, 80, 4]), torch.Size([2, 128, 200]) Output shape: torch.Size([2, 4])\n",
            "Test case 2: Input shapes torch.Size([2, 128, 1000]), torch.Size([2, 100, 4]), torch.Size([2, 128, 250]) Output shape: torch.Size([2, 4])\n",
            "Test case 3: Input shapes torch.Size([2, 128, 1500]), torch.Size([2, 150, 4]), torch.Size([2, 128, 300]) Output shape: torch.Size([2, 4])\n",
            "Model can handle variable input sizes!\n",
            "Testing model with real flexible batch...\n",
            "Model forward pass with real data successful! Output shape: torch.Size([32, 4])\n",
            "Sample predictions: tensor([[0.2630, 0.2437, 0.2308, 0.2625],\n",
            "        [0.2616, 0.2463, 0.2324, 0.2597],\n",
            "        [0.2614, 0.2453, 0.2330, 0.2603]], device='cuda:0')\n",
            "Model is ready for training!\n"
          ]
        }
      ]
    },
    {
      "cell_type": "code",
      "source": [
        "# Class distribution in augmented data:\n",
        "#   Bach: 1428 samples (42.3%)\n",
        "#   Beethoven: 285 samples (8.4%)\n",
        "#   Chopin: 171 samples (5.1%)\n",
        "#   Mozart: 353 samples (10.4%)\n",
        "# Calculate inverse frequency weights because of the unbalanced class\n",
        "class_weights = [0.184, 0.922, 1.537, 0.744]\n",
        "class_weights = torch.tensor(class_weights, dtype=torch.float32)"
      ],
      "metadata": {
        "id": "3uUHPZbEz9oO"
      },
      "execution_count": 24,
      "outputs": []
    },
    {
      "cell_type": "code",
      "source": [
        "# 6. MODEL TRAINING\n",
        "\n",
        "# Training parameters\n",
        "learning_rate = 0.001\n",
        "num_epochs = 50\n",
        "patience = 10  # For early stopping\n",
        "\n",
        "# Loss function and optimizer\n",
        "# criterion = nn.CrossEntropyLoss()\n",
        "criterion = nn.CrossEntropyLoss(weight=class_weights).to(device)\n",
        "optimizer = optim.Adam(model.parameters(), lr=learning_rate, weight_decay=1e-4)\n",
        "scheduler = optim.lr_scheduler.ReduceLROnPlateau(optimizer, mode='min', factor=0.5, patience=5)"
      ],
      "metadata": {
        "id": "tNhExcDRdsG8"
      },
      "execution_count": 29,
      "outputs": []
    },
    {
      "cell_type": "code",
      "source": [
        "num_epochs = 50\n",
        "best_val_acc = 0\n",
        "train_losses = []\n",
        "train_accuracies = []\n",
        "val_losses = []\n",
        "val_accuracies = []"
      ],
      "metadata": {
        "id": "zT1px0Mndwk_"
      },
      "execution_count": 30,
      "outputs": []
    },
    {
      "cell_type": "code",
      "source": [
        "model_path = str(DATASET_PATH) +'/final_model.pth'"
      ],
      "metadata": {
        "id": "uJCHo-P1cJ-J"
      },
      "execution_count": 31,
      "outputs": []
    },
    {
      "cell_type": "code",
      "source": [
        "for epoch in range(num_epochs):\n",
        "    # Training phase\n",
        "    model.train()\n",
        "    train_loss = 0\n",
        "    train_correct = 0\n",
        "    train_total = 0\n",
        "\n",
        "    # Training progress bar - disable live updates\n",
        "    train_pbar = tqdm(train_loader, desc=f'Epoch {epoch+1:2d}/{num_epochs} [Train]',\n",
        "                      leave=False, ncols=100, disable=False)\n",
        "\n",
        "    for batch_idx, batch in enumerate(train_pbar):\n",
        "        piano_roll = batch['piano_roll'].to(device)\n",
        "        note_features = batch['note_features'].to(device)\n",
        "        audio_features = batch['audio_features'].to(device)\n",
        "        statistical_features = batch['statistical_features'].to(device)\n",
        "        labels = batch['label'].to(device)\n",
        "\n",
        "        optimizer.zero_grad()\n",
        "        outputs = model(piano_roll, note_features, audio_features, statistical_features)\n",
        "        loss = criterion(outputs, labels)\n",
        "        loss.backward()\n",
        "        optimizer.step()\n",
        "\n",
        "        train_loss += loss.item()\n",
        "        _, predicted = torch.max(outputs.data, 1)\n",
        "        train_total += labels.size(0)\n",
        "        train_correct += (predicted == labels).sum().item()\n",
        "\n",
        "        # Update progress bar only every 20 batches or at the end\n",
        "        if (batch_idx + 1) % 20 == 0 or (batch_idx + 1) == len(train_loader):\n",
        "            current_train_acc = 100 * train_correct / train_total\n",
        "            current_train_loss = train_loss / (batch_idx + 1)\n",
        "\n",
        "            train_pbar.set_postfix({\n",
        "                'Loss': f'{current_train_loss:.4f}',\n",
        "                'Acc': f'{current_train_acc:.2f}%'\n",
        "            })\n",
        "\n",
        "    train_pbar.close()\n",
        "\n",
        "    # Calculate final training metrics\n",
        "    epoch_train_loss = train_loss / len(train_loader)\n",
        "    epoch_train_acc = 100 * train_correct / train_total\n",
        "\n",
        "    # Validation phase\n",
        "    model.eval()\n",
        "    val_loss = 0\n",
        "    val_correct = 0\n",
        "    val_total = 0\n",
        "\n",
        "    # Validation progress bar - disable live updates\n",
        "    val_pbar = tqdm(val_loader, desc=f'Epoch {epoch+1:2d}/{num_epochs} [Val]',\n",
        "                    leave=False, ncols=100, disable=False)\n",
        "\n",
        "    with torch.no_grad():\n",
        "        for batch_idx, batch in enumerate(val_pbar):\n",
        "            piano_roll = batch['piano_roll'].to(device)\n",
        "            note_features = batch['note_features'].to(device)\n",
        "            audio_features = batch['audio_features'].to(device)\n",
        "            statistical_features = batch['statistical_features'].to(device)\n",
        "            labels = batch['label'].to(device)\n",
        "\n",
        "            outputs = model(piano_roll, note_features, audio_features, statistical_features)\n",
        "            loss = criterion(outputs, labels)\n",
        "\n",
        "            val_loss += loss.item()\n",
        "            _, predicted = torch.max(outputs.data, 1)\n",
        "            val_total += labels.size(0)\n",
        "            val_correct += (predicted == labels).sum().item()\n",
        "\n",
        "            # Update progress bar only every 10 batches or at the end\n",
        "            if (batch_idx + 1) % 10 == 0 or (batch_idx + 1) == len(val_loader):\n",
        "                current_val_acc = 100 * val_correct / val_total\n",
        "                current_val_loss = val_loss / (batch_idx + 1)\n",
        "\n",
        "                val_pbar.set_postfix({\n",
        "                    'Loss': f'{current_val_loss:.4f}',\n",
        "                    'Acc': f'{current_val_acc:.2f}%'\n",
        "                })\n",
        "\n",
        "    val_pbar.close()\n",
        "\n",
        "    # Calculate final validation metrics\n",
        "    epoch_val_loss = val_loss / len(val_loader)\n",
        "    epoch_val_acc = 100 * val_correct / val_total\n",
        "\n",
        "    # Store metrics\n",
        "    train_losses.append(epoch_train_loss)\n",
        "    train_accuracies.append(epoch_train_acc)\n",
        "    val_losses.append(epoch_val_loss)\n",
        "    val_accuracies.append(epoch_val_acc)\n",
        "\n",
        "    # Update learning rate scheduler\n",
        "    scheduler.step(epoch_val_loss)\n",
        "\n",
        "    # Save best model\n",
        "    if epoch_val_acc > best_val_acc:\n",
        "        best_val_acc = epoch_val_acc\n",
        "        torch.save(model.state_dict(), model_path)\n",
        "        best_epoch = epoch + 1\n",
        "        improvement = \"Yes\"\n",
        "    else:\n",
        "        improvement = \"No\"\n",
        "\n",
        "    # Print clean epoch summary\n",
        "    print(f'Epoch {epoch+1:2d}/{num_epochs} | '\n",
        "          f'Train: {epoch_train_acc:6.2f}% ({epoch_train_loss:.4f}) | '\n",
        "          f'Val: {epoch_val_acc:6.2f}% ({epoch_val_loss:.4f}) | ')\n",
        "    # Early stopping check\n",
        "    if epoch >= 10:  # Start checking after 10 epochs\n",
        "        recent_val_accs = val_accuracies[-5:]  # Last 5 epochs\n",
        "        if len(recent_val_accs) == 5 and all(acc <= best_val_acc - 2 for acc in recent_val_accs[-3:]):\n",
        "            print(f'Early stopping triggered at epoch {epoch+1}')\n",
        "            break\n",
        "\n",
        "print(f\"Best validation accuracy: {best_val_acc:.2f}% (Epoch {best_epoch})\")"
      ],
      "metadata": {
        "colab": {
          "base_uri": "https://localhost:8080/"
        },
        "id": "dgniOI0nd57M",
        "outputId": "5ef902a9-50c5-486b-aa6f-6c67b321893b"
      },
      "execution_count": 32,
      "outputs": [
        {
          "output_type": "stream",
          "name": "stderr",
          "text": []
        },
        {
          "output_type": "stream",
          "name": "stdout",
          "text": [
            "Epoch  1/50 | Train:  41.52% (1.3330) | Val:  69.98% (1.1437) | \n"
          ]
        },
        {
          "output_type": "stream",
          "name": "stderr",
          "text": []
        },
        {
          "output_type": "stream",
          "name": "stdout",
          "text": [
            "Epoch  2/50 | Train:  62.99% (1.1496) | Val:  69.26% (1.1223) | \n"
          ]
        },
        {
          "output_type": "stream",
          "name": "stderr",
          "text": []
        },
        {
          "output_type": "stream",
          "name": "stdout",
          "text": [
            "Epoch  3/50 | Train:  61.94% (1.1256) | Val:  64.79% (1.0467) | \n"
          ]
        },
        {
          "output_type": "stream",
          "name": "stderr",
          "text": []
        },
        {
          "output_type": "stream",
          "name": "stdout",
          "text": [
            "Epoch  4/50 | Train:  64.41% (1.0466) | Val:  63.27% (1.0557) | \n"
          ]
        },
        {
          "output_type": "stream",
          "name": "stderr",
          "text": []
        },
        {
          "output_type": "stream",
          "name": "stdout",
          "text": [
            "Epoch  5/50 | Train:  66.70% (1.0010) | Val:  71.90% (0.9409) | \n"
          ]
        },
        {
          "output_type": "stream",
          "name": "stderr",
          "text": []
        },
        {
          "output_type": "stream",
          "name": "stdout",
          "text": [
            "Epoch  6/50 | Train:  67.56% (0.9842) | Val:  69.13% (0.9417) | \n"
          ]
        },
        {
          "output_type": "stream",
          "name": "stderr",
          "text": []
        },
        {
          "output_type": "stream",
          "name": "stdout",
          "text": [
            "Epoch  7/50 | Train:  68.03% (0.9612) | Val:  71.50% (0.8790) | \n"
          ]
        },
        {
          "output_type": "stream",
          "name": "stderr",
          "text": []
        },
        {
          "output_type": "stream",
          "name": "stdout",
          "text": [
            "Epoch  8/50 | Train:  68.86% (0.9271) | Val:  71.81% (0.8881) | \n"
          ]
        },
        {
          "output_type": "stream",
          "name": "stderr",
          "text": []
        },
        {
          "output_type": "stream",
          "name": "stdout",
          "text": [
            "Epoch  9/50 | Train:  70.03% (0.8996) | Val:  73.78% (0.8157) | \n"
          ]
        },
        {
          "output_type": "stream",
          "name": "stderr",
          "text": []
        },
        {
          "output_type": "stream",
          "name": "stdout",
          "text": [
            "Epoch 10/50 | Train:  71.72% (0.8693) | Val:  73.38% (0.8796) | \n"
          ]
        },
        {
          "output_type": "stream",
          "name": "stderr",
          "text": []
        },
        {
          "output_type": "stream",
          "name": "stdout",
          "text": [
            "Epoch 11/50 | Train:  70.89% (0.8540) | Val:  73.06% (0.8448) | \n"
          ]
        },
        {
          "output_type": "stream",
          "name": "stderr",
          "text": []
        },
        {
          "output_type": "stream",
          "name": "stdout",
          "text": [
            "Epoch 12/50 | Train:  72.15% (0.8384) | Val:  79.06% (0.7588) | \n"
          ]
        },
        {
          "output_type": "stream",
          "name": "stderr",
          "text": []
        },
        {
          "output_type": "stream",
          "name": "stdout",
          "text": [
            "Epoch 13/50 | Train:  73.37% (0.7932) | Val:  79.11% (0.7284) | \n"
          ]
        },
        {
          "output_type": "stream",
          "name": "stderr",
          "text": []
        },
        {
          "output_type": "stream",
          "name": "stdout",
          "text": [
            "Epoch 14/50 | Train:  73.80% (0.7716) | Val:  76.42% (0.6944) | \n"
          ]
        },
        {
          "output_type": "stream",
          "name": "stderr",
          "text": []
        },
        {
          "output_type": "stream",
          "name": "stdout",
          "text": [
            "Epoch 15/50 | Train:  74.30% (0.7550) | Val:  75.44% (0.7081) | \n"
          ]
        },
        {
          "output_type": "stream",
          "name": "stderr",
          "text": []
        },
        {
          "output_type": "stream",
          "name": "stdout",
          "text": [
            "Epoch 16/50 | Train:  74.09% (0.7574) | Val:  80.36% (0.7012) | \n"
          ]
        },
        {
          "output_type": "stream",
          "name": "stderr",
          "text": []
        },
        {
          "output_type": "stream",
          "name": "stdout",
          "text": [
            "Epoch 17/50 | Train:  74.80% (0.7383) | Val:  76.73% (0.6620) | \n"
          ]
        },
        {
          "output_type": "stream",
          "name": "stderr",
          "text": []
        },
        {
          "output_type": "stream",
          "name": "stdout",
          "text": [
            "Epoch 18/50 | Train:  74.97% (0.7137) | Val:  79.73% (0.6662) | \n"
          ]
        },
        {
          "output_type": "stream",
          "name": "stderr",
          "text": []
        },
        {
          "output_type": "stream",
          "name": "stdout",
          "text": [
            "Epoch 19/50 | Train:  75.29% (0.6942) | Val:  82.37% (0.6648) | \n"
          ]
        },
        {
          "output_type": "stream",
          "name": "stderr",
          "text": []
        },
        {
          "output_type": "stream",
          "name": "stdout",
          "text": [
            "Epoch 20/50 | Train:  76.28% (0.6874) | Val:  79.87% (0.6552) | \n"
          ]
        },
        {
          "output_type": "stream",
          "name": "stderr",
          "text": []
        },
        {
          "output_type": "stream",
          "name": "stdout",
          "text": [
            "Epoch 21/50 | Train:  75.28% (0.6988) | Val:  80.36% (0.6295) | \n"
          ]
        },
        {
          "output_type": "stream",
          "name": "stderr",
          "text": [
            "                                                                                                    "
          ]
        },
        {
          "output_type": "stream",
          "name": "stdout",
          "text": [
            "Epoch 22/50 | Train:  75.31% (0.6864) | Val:  76.73% (0.6104) | \n",
            "Early stopping triggered at epoch 22\n",
            "Best validation accuracy: 82.37% (Epoch 19)\n"
          ]
        },
        {
          "output_type": "stream",
          "name": "stderr",
          "text": [
            "\r"
          ]
        }
      ]
    },
    {
      "cell_type": "code",
      "source": [
        "# Plot training curves\n",
        "plt.figure(figsize=(12, 4))\n",
        "\n",
        "plt.subplot(1, 2, 1)\n",
        "epochs_range = range(1, len(train_losses) + 1)\n",
        "plt.plot(epochs_range, train_losses, 'b-', label='Training Loss', linewidth=2)\n",
        "plt.plot(epochs_range, val_losses, 'r-', label='Validation Loss', linewidth=2)\n",
        "plt.title('Training and Validation Loss')\n",
        "plt.xlabel('Epoch')\n",
        "plt.ylabel('Loss')\n",
        "plt.legend()\n",
        "plt.grid(True, alpha=0.3)\n",
        "\n",
        "plt.subplot(1, 2, 2)\n",
        "plt.plot(epochs_range, train_accuracies, 'b-', label='Training Accuracy', linewidth=2)\n",
        "plt.plot(epochs_range, val_accuracies, 'r-', label='Validation Accuracy', linewidth=2)\n",
        "plt.title('Training and Validation Accuracy')\n",
        "plt.xlabel('Epoch')\n",
        "plt.ylabel('Accuracy (%)')\n",
        "plt.legend()\n",
        "plt.grid(True, alpha=0.3)\n",
        "\n",
        "# Mark best epoch\n",
        "plt.axvline(x=best_epoch, color='g', linestyle='--', alpha=0.7, label=f'Best Val Acc: {best_val_acc:.2f}%')\n",
        "plt.legend()\n",
        "\n",
        "plt.tight_layout()\n",
        "plt.show()"
      ],
      "metadata": {
        "colab": {
          "base_uri": "https://localhost:8080/",
          "height": 407
        },
        "id": "n-kiizZGd-0z",
        "outputId": "826f3ad8-c853-4204-8595-29436ef67725"
      },
      "execution_count": 33,
      "outputs": [
        {
          "output_type": "display_data",
          "data": {
            "text/plain": [
              "<Figure size 1200x400 with 2 Axes>"
            ],
            "image/png": "[encoded data removed]"
          },
          "metadata": {}
        }
      ]
    },
    {
      "cell_type": "code",
      "source": [
        "# Print training summary\n",
        "print(f\"\\n{'='*60}\")\n",
        "print(\"TRAINING SUMMARY\")\n",
        "print(f\"{'='*60}\")\n",
        "print(f\"Total epochs trained: {len(train_losses)}\")\n",
        "print(f\"Best validation accuracy: {best_val_acc:.2f}% (Epoch {best_epoch})\")\n",
        "print(f\"Final training accuracy: {train_accuracies[-1]:.2f}%\")\n",
        "print(f\"Final validation accuracy: {val_accuracies[-1]:.2f}%\")\n",
        "print(f\"Final learning rate: {optimizer.param_groups[0]['lr']:.8f}\")"
      ],
      "metadata": {
        "colab": {
          "base_uri": "https://localhost:8080/"
        },
        "id": "NyagcuzGdjcq",
        "outputId": "65f7b73b-1f67-471d-c3fd-d8043520eed7"
      },
      "execution_count": 34,
      "outputs": [
        {
          "output_type": "stream",
          "name": "stdout",
          "text": [
            "\n",
            "============================================================\n",
            "TRAINING SUMMARY\n",
            "============================================================\n",
            "Total epochs trained: 22\n",
            "Best validation accuracy: 82.37% (Epoch 19)\n",
            "Final training accuracy: 75.31%\n",
            "Final validation accuracy: 76.73%\n",
            "Final learning rate: 0.00100000\n"
          ]
        }
      ]
    },
    {
      "cell_type": "code",
      "source": [
        "# Load best model\n",
        "model.load_state_dict(torch.load(model_path))\n",
        "model.eval()\n",
        "\n",
        "# Test evaluation\n",
        "all_predictions = []\n",
        "all_labels = []\n",
        "\n",
        "with torch.no_grad():\n",
        "    for batch in test_loader:\n",
        "        piano_roll = batch['piano_roll'].to(device)\n",
        "        note_features = batch['note_features'].to(device)\n",
        "        audio_features = batch['audio_features'].to(device)\n",
        "        statistical_features = batch['statistical_features'].to(device)\n",
        "        labels = batch['label'].to(device)\n",
        "\n",
        "        outputs = model(piano_roll, note_features, audio_features, statistical_features)\n",
        "        _, predicted = torch.max(outputs.data, 1)\n",
        "\n",
        "        all_predictions.extend(predicted.cpu().numpy())\n",
        "        all_labels.extend(labels.cpu().numpy())\n",
        "\n",
        "# Calculate metrics\n",
        "test_accuracy = accuracy_score(all_labels, all_predictions)\n",
        "test_precision = precision_score(all_labels, all_predictions, average='weighted')\n",
        "test_recall = recall_score(all_labels, all_predictions, average='weighted')\n",
        "\n",
        "print(f\"\\nFINAL RESULTS:\")\n",
        "print(f\"Test Accuracy: {test_accuracy:.4f}\")\n",
        "print(f\"Test Precision: {test_precision:.4f}\")\n",
        "print(f\"Test Recall: {test_recall:.4f}\")"
      ],
      "metadata": {
        "colab": {
          "base_uri": "https://localhost:8080/"
        },
        "id": "AGpuGtcUdm_H",
        "outputId": "66ef998c-d7d0-403e-8268-8920c410c657"
      },
      "execution_count": 35,
      "outputs": [
        {
          "output_type": "stream",
          "name": "stdout",
          "text": [
            "\n",
            "FINAL RESULTS:\n",
            "Test Accuracy: 0.8243\n",
            "Test Precision: 0.8383\n",
            "Test Recall: 0.8243\n"
          ]
        }
      ]
    },
    {
      "cell_type": "code",
      "source": [
        "print(f\"\\nClassification Report:\")\n",
        "print(classification_report(all_labels, all_predictions, target_names=TARGET_COMPOSERS))\n"
      ],
      "metadata": {
        "colab": {
          "base_uri": "https://localhost:8080/"
        },
        "id": "L4DkkICndqmB",
        "outputId": "97bf66c6-d1bb-4e91-8635-c91a3eee35e1"
      },
      "execution_count": 36,
      "outputs": [
        {
          "output_type": "stream",
          "name": "stdout",
          "text": [
            "\n",
            "Classification Report:\n",
            "              precision    recall  f1-score   support\n",
            "\n",
            "        Bach       0.96      0.92      0.94      1428\n",
            "   Beethoven       0.67      0.47      0.55       285\n",
            "      Chopin       0.74      0.78      0.76       171\n",
            "      Mozart       0.54      0.74      0.63       353\n",
            "\n",
            "    accuracy                           0.82      2237\n",
            "   macro avg       0.73      0.73      0.72      2237\n",
            "weighted avg       0.84      0.82      0.83      2237\n",
            "\n"
          ]
        }
      ]
    },
    {
      "cell_type": "code",
      "source": [
        "# Per-composer accuracy\n",
        "print(f\"Per-composer accuracy:\")\n",
        "for i, composer in enumerate(TARGET_COMPOSERS):\n",
        "    mask = np.array(all_labels) == i\n",
        "    if np.sum(mask) > 0:\n",
        "        acc = np.mean(np.array(all_predictions)[mask] == i)\n",
        "        count = np.sum(mask)\n",
        "        print(f\"{composer}: {acc:.4f} ({count} samples)\")"
      ],
      "metadata": {
        "colab": {
          "base_uri": "https://localhost:8080/"
        },
        "id": "bt7hwHPcds2r",
        "outputId": "615b1af6-9172-4db0-d38e-f3fa618c7d38"
      },
      "execution_count": 37,
      "outputs": [
        {
          "output_type": "stream",
          "name": "stdout",
          "text": [
            "Per-composer accuracy:\n",
            "Bach: 0.9216 (1428 samples)\n",
            "Beethoven: 0.4667 (285 samples)\n",
            "Chopin: 0.7778 (171 samples)\n",
            "Mozart: 0.7422 (353 samples)\n"
          ]
        }
      ]
    },
    {
      "cell_type": "code",
      "source": [
        "# Simple visualization\n",
        "plt.figure(figsize=(10, 4))\n",
        "\n",
        "plt.subplot(1, 2, 1)\n",
        "composer_counts = [labels.tolist().count(i) for i in range(len(TARGET_COMPOSERS))]\n",
        "plt.bar(TARGET_COMPOSERS, composer_counts)\n",
        "plt.title('Dataset Distribution')\n",
        "plt.ylabel('Number of Files')\n",
        "plt.xticks(rotation=45)\n",
        "\n",
        "plt.subplot(1, 2, 2)\n",
        "composer_accs = []\n",
        "for i, composer in enumerate(TARGET_COMPOSERS):\n",
        "    mask = np.array(all_labels) == i\n",
        "    if np.sum(mask) > 0:\n",
        "        acc = np.mean(np.array(all_predictions)[mask] == i) * 100\n",
        "        composer_accs.append(acc)\n",
        "    else:\n",
        "        composer_accs.append(0)\n",
        "\n",
        "plt.bar(TARGET_COMPOSERS, composer_accs)\n",
        "plt.title('Per-Composer Accuracy')\n",
        "plt.ylabel('Accuracy (%)')\n",
        "plt.xticks(rotation=45)\n",
        "\n",
        "plt.tight_layout()\n",
        "plt.show()"
      ],
      "metadata": {
        "colab": {
          "base_uri": "https://localhost:8080/",
          "height": 407
        },
        "id": "XnEffy6zdvHD",
        "outputId": "7ce07a49-e4ca-45b1-b9c5-62faa98ffea5"
      },
      "execution_count": 41,
      "outputs": [
        {
          "output_type": "display_data",
          "data": {
            "text/plain": [
              "<Figure size 1000x400 with 2 Axes>"
            ],
            "image/png": "[encoded data removed]"
          },
          "metadata": {}
        }
      ]
    },
    {
      "cell_type": "code",
      "source": [
        "# 6. Conclusion\n",
        "# 6.1 Summary of Findings\n",
        "# This research successfully developed a multi-modal deep learning system for classical composer classification, achieving significant accuracy improvements through class balancing techniques. Key findings include:\n",
        "\n",
        "# 1. Multi-modal Feature Integration: Combining piano roll, sequential, audio, and statistical features provided comprehensive musical representation\n",
        "# 2. Class Imbalance Solutions: Weighted loss functions effectively addressed dataset imbalance, improving minority class performance\n",
        "# 3. Architectural Design: The hybrid CNN-LSTM architecture successfully captured both spatial and temporal musical patterns\n",
        "# 4. Data Augmentation Value: Domain-specific augmentation techniques substantially improved model robustness"
      ],
      "metadata": {
        "id": "RmAQal1y4_Tl"
      },
      "execution_count": 42,
      "outputs": []
    },
    {
      "cell_type": "code",
      "source": [],
      "metadata": {
        "id": "V-LTYQ-e_CCy"
      },
      "execution_count": null,
      "outputs": []
    }
  ]
}